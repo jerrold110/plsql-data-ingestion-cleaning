{
 "cells": [
  {
   "cell_type": "markdown",
   "id": "d975fe88",
   "metadata": {},
   "source": [
    "#### Query: Find 2 tickers with highest positive correlation in prices movement and 2 tickers with highest inverse correlation."
   ]
  },
  {
   "cell_type": "code",
   "execution_count": 1,
   "id": "eb6ffd53",
   "metadata": {},
   "outputs": [],
   "source": [
    "import pandas as pd\n",
    "import warnings\n",
    "warnings.filterwarnings('ignore')"
   ]
  },
  {
   "cell_type": "code",
   "execution_count": 2,
   "id": "1cf1df5b",
   "metadata": {},
   "outputs": [
    {
     "data": {
      "text/html": [
       "<div>\n",
       "<style scoped>\n",
       "    .dataframe tbody tr th:only-of-type {\n",
       "        vertical-align: middle;\n",
       "    }\n",
       "\n",
       "    .dataframe tbody tr th {\n",
       "        vertical-align: top;\n",
       "    }\n",
       "\n",
       "    .dataframe thead th {\n",
       "        text-align: right;\n",
       "    }\n",
       "</style>\n",
       "<table border=\"1\" class=\"dataframe\">\n",
       "  <thead>\n",
       "    <tr style=\"text-align: right;\">\n",
       "      <th></th>\n",
       "      <th>Symbol</th>\n",
       "      <th>Name</th>\n",
       "      <th>Industry</th>\n",
       "      <th>Equity Capital (In Rs.)</th>\n",
       "      <th>Free Float Market Capitalisation (Rs. Crores)</th>\n",
       "      <th>Weightage ()</th>\n",
       "      <th>Beta</th>\n",
       "      <th>R2</th>\n",
       "      <th>Volatility_Per</th>\n",
       "      <th>Monthly Return</th>\n",
       "      <th>Avg_Impact_Cost_percent</th>\n",
       "      <th>report_date</th>\n",
       "    </tr>\n",
       "  </thead>\n",
       "  <tbody>\n",
       "    <tr>\n",
       "      <th>0</th>\n",
       "      <td>ABB</td>\n",
       "      <td>ABB Ltd.</td>\n",
       "      <td>ELECTRICAL EQUIPMENT</td>\n",
       "      <td>423816750</td>\n",
       "      <td>7700.0</td>\n",
       "      <td>0.60</td>\n",
       "      <td>0.88</td>\n",
       "      <td>0.52</td>\n",
       "      <td>2.09</td>\n",
       "      <td>8.29</td>\n",
       "      <td>0.09</td>\n",
       "      <td>2009-08-01</td>\n",
       "    </tr>\n",
       "    <tr>\n",
       "      <th>1</th>\n",
       "      <td>ACC</td>\n",
       "      <td>ACC Ltd.</td>\n",
       "      <td>CEMENT AND CEMENT PRODUCTS</td>\n",
       "      <td>1876948930</td>\n",
       "      <td>8148.0</td>\n",
       "      <td>0.64</td>\n",
       "      <td>0.73</td>\n",
       "      <td>0.42</td>\n",
       "      <td>2.77</td>\n",
       "      <td>-8.38</td>\n",
       "      <td>0.08</td>\n",
       "      <td>2009-08-01</td>\n",
       "    </tr>\n",
       "    <tr>\n",
       "      <th>2</th>\n",
       "      <td>AMBUJACEM</td>\n",
       "      <td>Ambuja Cements Ltd.</td>\n",
       "      <td>CEMENT AND CEMENT PRODUCTS</td>\n",
       "      <td>3045618098</td>\n",
       "      <td>8084.0</td>\n",
       "      <td>0.63</td>\n",
       "      <td>0.84</td>\n",
       "      <td>0.41</td>\n",
       "      <td>1.94</td>\n",
       "      <td>-8.62</td>\n",
       "      <td>0.12</td>\n",
       "      <td>2009-08-01</td>\n",
       "    </tr>\n",
       "    <tr>\n",
       "      <th>3</th>\n",
       "      <td>AXISBANK</td>\n",
       "      <td>Axis Bank Ltd.</td>\n",
       "      <td>BANKS</td>\n",
       "      <td>3597637330</td>\n",
       "      <td>18826.0</td>\n",
       "      <td>1.47</td>\n",
       "      <td>1.24</td>\n",
       "      <td>0.61</td>\n",
       "      <td>2.64</td>\n",
       "      <td>-1.29</td>\n",
       "      <td>0.07</td>\n",
       "      <td>2009-08-01</td>\n",
       "    </tr>\n",
       "    <tr>\n",
       "      <th>4</th>\n",
       "      <td>BHARTIARTL</td>\n",
       "      <td>Bharti Airtel Ltd.</td>\n",
       "      <td>TELECOMMUNICATION - SERVICES</td>\n",
       "      <td>37966502620</td>\n",
       "      <td>52544.0</td>\n",
       "      <td>4.11</td>\n",
       "      <td>0.99</td>\n",
       "      <td>0.62</td>\n",
       "      <td>2.64</td>\n",
       "      <td>3.54</td>\n",
       "      <td>0.09</td>\n",
       "      <td>2009-08-01</td>\n",
       "    </tr>\n",
       "  </tbody>\n",
       "</table>\n",
       "</div>"
      ],
      "text/plain": [
       "       Symbol                 Name                      Industry  \\\n",
       "0         ABB             ABB Ltd.          ELECTRICAL EQUIPMENT   \n",
       "1         ACC             ACC Ltd.    CEMENT AND CEMENT PRODUCTS   \n",
       "2   AMBUJACEM  Ambuja Cements Ltd.    CEMENT AND CEMENT PRODUCTS   \n",
       "3    AXISBANK       Axis Bank Ltd.                         BANKS   \n",
       "4  BHARTIARTL   Bharti Airtel Ltd.  TELECOMMUNICATION - SERVICES   \n",
       "\n",
       "   Equity Capital (In Rs.)  Free Float Market Capitalisation (Rs. Crores)  \\\n",
       "0                423816750                                         7700.0   \n",
       "1               1876948930                                         8148.0   \n",
       "2               3045618098                                         8084.0   \n",
       "3               3597637330                                        18826.0   \n",
       "4              37966502620                                        52544.0   \n",
       "\n",
       "   Weightage ()  Beta    R2  Volatility_Per Monthly Return  \\\n",
       "0          0.60  0.88  0.52            2.09           8.29   \n",
       "1          0.64  0.73  0.42            2.77          -8.38   \n",
       "2          0.63  0.84  0.41            1.94          -8.62   \n",
       "3          1.47  1.24  0.61            2.64          -1.29   \n",
       "4          4.11  0.99  0.62            2.64           3.54   \n",
       "\n",
       "   Avg_Impact_Cost_percent report_date  \n",
       "0                     0.09  2009-08-01  \n",
       "1                     0.08  2009-08-01  \n",
       "2                     0.12  2009-08-01  \n",
       "3                     0.07  2009-08-01  \n",
       "4                     0.09  2009-08-01  "
      ]
     },
     "execution_count": 2,
     "metadata": {},
     "output_type": "execute_result"
    }
   ],
   "source": [
    "data = pd.read_excel('nifty_data.xlsx')\n",
    "data.head()"
   ]
  },
  {
   "cell_type": "code",
   "execution_count": 3,
   "id": "a41eb9f4",
   "metadata": {},
   "outputs": [
    {
     "data": {
      "text/plain": [
       "(6850, 12)"
      ]
     },
     "execution_count": 3,
     "metadata": {},
     "output_type": "execute_result"
    }
   ],
   "source": [
    "data.shape"
   ]
  },
  {
   "cell_type": "code",
   "execution_count": 4,
   "id": "64f24186",
   "metadata": {},
   "outputs": [
    {
     "name": "stdout",
     "output_type": "stream",
     "text": [
      "(6800, 12)\n"
     ]
    }
   ],
   "source": [
    "# Drop duplicate data\n",
    "data = data.drop_duplicates(subset=['Symbol', 'report_date'])\n",
    "print(data.shape)"
   ]
  },
  {
   "cell_type": "code",
   "execution_count": 5,
   "id": "51db8095",
   "metadata": {},
   "outputs": [],
   "source": [
    "# Pivot the data into index(date), columns(symbol), values(equity cap)\n",
    "# Obtain movement from month to month\n",
    "pivot = data.pivot(index='report_date', columns='Symbol', values='Equity Capital (In Rs.)')\n",
    "price_movement = pivot.pct_change(fill_method=None)\n",
    "correlation = price_movement.corr()"
   ]
  },
  {
   "cell_type": "code",
   "execution_count": 6,
   "id": "ce82c3d8",
   "metadata": {},
   "outputs": [
    {
     "name": "stdout",
     "output_type": "stream",
     "text": [
      "Stocks with highest movement correlation: INFRATEL and SUNPHARMA 0.9999260846658645\n",
      "Stocks with highest inverse movement correlation: INFRATEL and TATAPOWER -0.9999999999999998\n"
     ]
    }
   ],
   "source": [
    "# Exclude extreme values caused by numeric overflow if present, and stock correlation with itself(1)\n",
    "correlation = correlation[(correlation<1.0)&(correlation>-1.0)]\n",
    "\n",
    "max_value_index, max_value_column = correlation.stack().idxmax()\n",
    "max_value = correlation.loc[max_value_index, max_value_column]\n",
    "print(f'Stocks with highest movement correlation: {max_value_index} and {max_value_column} {max_value}')\n",
    "\n",
    "min_value_index, min_value_column = correlation.stack().idxmin()\n",
    "min_value = correlation.loc[min_value_index, min_value_column]\n",
    "print(f'Stocks with highest inverse movement correlation: {min_value_index} and {min_value_column} {min_value}')"
   ]
  }
 ],
 "metadata": {
  "kernelspec": {
   "display_name": "Python 3 (ipykernel)",
   "language": "python",
   "name": "python3"
  },
  "language_info": {
   "codemirror_mode": {
    "name": "ipython",
    "version": 3
   },
   "file_extension": ".py",
   "mimetype": "text/x-python",
   "name": "python",
   "nbconvert_exporter": "python",
   "pygments_lexer": "ipython3",
   "version": "3.11.4"
  }
 },
 "nbformat": 4,
 "nbformat_minor": 5
}
